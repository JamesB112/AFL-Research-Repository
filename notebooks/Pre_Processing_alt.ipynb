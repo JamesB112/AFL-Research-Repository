{
 "cells": [
  {
   "cell_type": "markdown",
   "metadata": {},
   "source": [
    "# Preprocessing\n",
    "\n",
    "Preprocessing will revolve around the following steps: \n",
    "1. Draft Dataset \n",
    "- Imputation of missing variables \n",
    "- Standardisation of attirbutes\n",
    "- Setting variable types\n",
    "- setting positions"
   ]
  },
  {
   "cell_type": "markdown",
   "metadata": {},
   "source": [
    "The alternate method used here is differend joining keys. \n",
    "\n",
    "Instead of using a players first registered club after 2013, we will keep all club history, with respectve jumper numbers, and \n",
    "use these additionally to attept to solve issues identified below. These mostly derive from the issue of duplicate names"
   ]
  },
  {
   "cell_type": "markdown",
   "metadata": {},
   "source": [
    "This current notebook works, but has a few bugs/cases to fix such as:\n",
    "- Playing no games for the first club, and some for the second \n",
    "- Players who played in 2010-2012, but not in 2013 (the cut off year)\n",
    "- Changed clubs in 2013 and played no more games \n",
    "- Probably more"
   ]
  },
  {
   "cell_type": "code",
   "execution_count": 542,
   "metadata": {},
   "outputs": [
    {
     "name": "stderr",
     "output_type": "stream",
     "text": [
      "/tmp/ipykernel_278/714907168.py:5: DtypeWarning: Columns (14) have mixed types. Specify dtype option on import or set low_memory=False.\n",
      "  position_history = pd.read_csv('../data/raw/game_positions.csv',  index_col=[0])\n"
     ]
    }
   ],
   "source": [
    "import pandas as pd\n",
    "import re\n",
    "# Load the datasets\n",
    "draft_data = pd.read_csv('../data/raw/draft_history.csv',  index_col=[0])\n",
    "position_history = pd.read_csv('../data/raw/game_positions.csv',  index_col=[0])\n",
    "player_stats = pd.read_csv('../data/raw/player_statistics.csv',  index_col=[0])\n",
    "afltable_hist = pd.read_csv('../data/raw/afltables_draft.csv',  index_col=[0])\n",
    "\n",
    "# Constant Variables\n",
    "\n",
    "# This refers to the year of which player stats were first collected\n",
    "STATISTICS_COLLECTION_YEAR = '2010'\n",
    "# This refers to the year of which draft history was first captured \n",
    "DRAFT_START_YEAR = '2013'"
   ]
  },
  {
   "cell_type": "code",
   "execution_count": 543,
   "metadata": {},
   "outputs": [],
   "source": [
    "# Before anything, we need to join the afltable_hist and draft_data to get all the attributes we desire\n",
    "\n",
    "# This function standardises team names to be used as a attribute to join the 2 different draft datasets\n",
    "from optparse import Values\n",
    "\n",
    "\n",
    "def team_standardise(team):\n",
    "    team_dict = {'Adelaide' : 'Adelaide Crows',\n",
    "                  'GWS'  :  'GWS Giants',\n",
    "                  'Gold Coast' : 'Gold Coast Suns',\n",
    "                  'Geelong' : 'Geelong Cats',\n",
    "                  'Sydney' : 'Sydney Swans',\n",
    "                  'West Coast' : 'West Coast Eagles'}\n",
    "    if team in team_dict.keys():\n",
    "        team = team_dict[team]\n",
    "    return team\n",
    "    \n",
    "# This function determines the last playing year of a player\n",
    "def last_season(seasons):\n",
    "    seasons = re.sub(r'[ |\\-|,|A-z]', '', seasons)\n",
    "    # take last 4 didgets\n",
    "    return seasons[-4:]\n",
    "\n",
    "# This function determines the first playing year of a player\n",
    "def first_season(seasons):\n",
    "    seasons = re.sub(r'[ |\\-|,|A-z]', '', seasons)\n",
    "    # take last 4 didgets\n",
    "    return seasons[:4]\n",
    "\n",
    "# This finds the last year a player plays over their whole career\n",
    "def players_last_year(player, HT, WT, dataset = afltable_hist):\n",
    "    # frst take subset with player information\n",
    "    player_draft_sub = dataset[(dataset['Player'] == player) & (dataset['HT'] == HT) & (dataset['WT'] == WT)] \n",
    "    # if there is only one row, just output the club\n",
    "    most_recent_year = '0'\n",
    "    for history in player_draft_sub['Seasons']:\n",
    "        # work out if 2013 lies before the last year\n",
    "        years = last_season(history)\n",
    "        if most_recent_year < years:\n",
    "            most_recent_year = years\n",
    "    return most_recent_year\n",
    "\n",
    "# ensure the names are standardised to ensure compadability between datasets\n",
    "def name_cleanse(name):\n",
    "    # need to remove the middle names from players\n",
    "    name = re.sub(' [A-z]\\. ', ' ', name)\n",
    "    # need to keep the first 2 letters of the first name\n",
    "    first_n, last_n = name.split(' ', 1)\n",
    "    # replace all (tom)s with thomas\n",
    "    first_n = re.sub('[\\W_| ]+', '', first_n.lower())\n",
    "    if first_n in ('tom', 'tommy'):\n",
    "        first_n = 'thomas'\n",
    "    f_len = len(first_n)\n",
    "    cap = min(f_len, 3)\n",
    "    last_n = re.sub('[\\W_| ]+', '', last_n.lower())\n",
    "    return first_n[0:cap] + ' ' + last_n\n",
    "\n",
    "# this finds the last item in the list\n",
    "def last_item(x, current):\n",
    "    if len(x) == 1:\n",
    "        return x[0]\n",
    "    else:\n",
    "        # find the club before\n",
    "        x.reverse()\n",
    "        for i in x:\n",
    "            if i != current:\n",
    "                return i\n",
    "        # if this doesn't work\n",
    "        return current\n",
    "\n",
    "# THis fuction is designed to identify unjoined entries from the afltables dataset\n",
    "def chiral_leftovers(primary, secondary): \n",
    "    # This is traditional method with all unlinked removed \n",
    "    full = pd.merge(primary, secondary,  how='inner', left_on=['Player_alt','Chiral_Key'], right_on = ['Player_alt','Chiral_Key'])\n",
    "    # next, create secondary with all unlinked \n",
    "    unlinked = primary[~primary['providerId'].isin(full['providerId'].values.tolist())]\n",
    "    # now need to join using the second method, which has beed derived by identifying they have all joined a club and not played\n",
    "    unlinked['Chiral_Key'] = unlinked.apply(lambda x: last_item(x['Teams'], x['Chiral_Key']), axis = 1)\n",
    "    # now try again \n",
    "    alt_link = pd.merge(unlinked, secondary,  how='left', left_on=['Player_alt','Chiral_Key'], right_on = ['Player_alt','Chiral_Key'])\n",
    "    # finally join the 2 datasets \n",
    "    dataset = pd.concat([full, alt_link], axis=0)\n",
    "    return dataset\n",
    "\n"
   ]
  },
  {
   "cell_type": "code",
   "execution_count": 544,
   "metadata": {},
   "outputs": [
    {
     "name": "stderr",
     "output_type": "stream",
     "text": [
      "/tmp/ipykernel_278/1041434780.py:7: SettingWithCopyWarning: \n",
      "A value is trying to be set on a copy of a slice from a DataFrame.\n",
      "Try using .loc[row_indexer,col_indexer] = value instead\n",
      "\n",
      "See the caveats in the documentation: https://pandas.pydata.org/pandas-docs/stable/user_guide/indexing.html#returning-a-view-versus-a-copy\n",
      "  afltable_hist['Last_season'] = afltable_hist.apply(lambda x: players_last_year(x['Player'], x['HT'], x['WT']), axis=1)\n"
     ]
    }
   ],
   "source": [
    "# First remove players whom played only in seasons before and including 2010 (want at least a year to compare to: 2010 and 2011)\n",
    "afltable_hist['Last_season_club'] = afltable_hist['Seasons'].apply(lambda x: last_season(x))\n",
    "afltable_hist['First_season_club'] = afltable_hist['Seasons'].apply(lambda x: first_season(x))\n",
    "# remove players who finished at a club before 1995\n",
    "afltable_hist = afltable_hist[afltable_hist['First_season_club'] > '1990']\n",
    "# The reason we need to use the HT and WT as input, is to differenciate between players of the same name\n",
    "afltable_hist['Last_season'] = afltable_hist.apply(lambda x: players_last_year(x['Player'], x['HT'], x['WT']), axis=1)\n",
    "# Want only players who are registered to an afl club from 2013 onwards\n",
    "afltable_hist = afltable_hist[afltable_hist['Last_season'] >= DRAFT_START_YEAR]\n",
    "afltable_hist['Team'] = afltable_hist['Team'].apply(lambda x: team_standardise(x))\n",
    "afltable_hist['Player_alt'] = afltable_hist['Player'].apply(lambda x: name_cleanse(x))\n",
    "# for the join club\n",
    "afltable_hist = afltable_hist.reset_index()\n",
    "# sort again\n",
    "afltable_hist.sort_values('Last_season_club', inplace=True)"
   ]
  },
  {
   "cell_type": "code",
   "execution_count": 545,
   "metadata": {},
   "outputs": [],
   "source": [
    "# Now lets obtain the desired aggreagated statistics\n",
    "# Each player can be uniquely identified by their name, height and weight\n",
    "afltable_agg = afltable_hist.groupby(['Player_alt', 'HT', 'WT']).agg(Games = pd.NamedAgg('Games', 'sum'), \n",
    "                                                  Clubs = pd.NamedAgg('Team', aggfunc=lambda x: list(x)), \n",
    "                                                  Numbers = pd.NamedAgg('#', aggfunc=lambda x: list(x)),\n",
    "                                                  Total_Clubs = pd.NamedAgg('Team', aggfunc=lambda x: len(list(x))),\n",
    "                                                  Goals = pd.NamedAgg('Goals', 'sum'), \n",
    "                                                  Debut_season = pd.NamedAgg('First_season_club', 'min')).reset_index()"
   ]
  },
  {
   "cell_type": "code",
   "execution_count": 546,
   "metadata": {},
   "outputs": [],
   "source": [
    "team_keys = afltable_agg.apply(lambda x: list(zip(x['Clubs'], x['Numbers'])), axis=1)\n",
    "afltable_agg['Team_Keys'] = team_keys\n",
    "chiral_keys = afltable_agg.apply(lambda x: list(zip(x['Clubs'], x['Numbers']))[-1][0], axis=1)\n",
    "afltable_agg['Chiral_Key'] = chiral_keys"
   ]
  },
  {
   "cell_type": "code",
   "execution_count": 547,
   "metadata": {},
   "outputs": [],
   "source": [
    "# Before anything, we need to join the afltable_hist and draft_data to get all the attributes we desire\n",
    "# get common name attribute\n",
    "draft_data['Player'] = draft_data['firstName'] + ' ' + draft_data['surname']\n",
    "draft_data['Player_alt'] = draft_data['Player'].apply(lambda x: name_cleanse(x))\n",
    "# need to setup Key_club (which is the first club a player is played at since 2013)\n",
    "draft_data.sort_values(by=['season'], inplace=True)\n",
    "draft_data['Team_Keys'] = draft_data.apply(lambda x: (x['team'], x['jumperNumber']), axis=1)"
   ]
  },
  {
   "cell_type": "code",
   "execution_count": 548,
   "metadata": {},
   "outputs": [],
   "source": [
    "# could modify draftYear, draftType to take list, so clubs redrafted can be identified\n",
    "# Each player can be uniquely identified by their id\n",
    "draft_data_agg = draft_data.groupby('id').agg(Player_alt = pd.NamedAgg('Player_alt', lambda x: pd.Series.mode(x)[0]),\n",
    "                                                                    player_name = pd.NamedAgg('Player', lambda x: pd.Series.mode(x)),\n",
    "                                                                    first_reg_season = pd.NamedAgg('season', 'min'),\n",
    "                                                                    Last_reg_season = pd.NamedAgg('season', 'max'),\n",
    "                                                                    Position = pd.NamedAgg('position', lambda x: set(x)),\n",
    "                                                                    providerId = pd.NamedAgg('providerId', lambda x: pd.Series.mode(x)[0]),\n",
    "                                                                    dateOfBirth = pd.NamedAgg('dateOfBirth', lambda x: pd.Series.mode(x)[0]),\n",
    "                                                                    draftYear = pd.NamedAgg('draftYear', lambda x: list(x)[0]),\n",
    "                                                                    heightInCm = pd.NamedAgg('heightInCm', lambda x: pd.Series.mode(x)[0]),\n",
    "                                                                    weightInKg = pd.NamedAgg('weightInKg', lambda x: pd.Series.mode(x)[0]),\n",
    "                                                                    recruitedFrom = pd.NamedAgg('recruitedFrom', lambda x: list(x)[0]),\n",
    "                                                                    debutYear = pd.NamedAgg('debutYear', lambda x: list(x)[0]),\n",
    "                                                                    draftType = pd.NamedAgg('draftType', lambda x: list(x)[0]),\n",
    "                                                                    draftPosition = pd.NamedAgg('draftPosition', lambda x: list(x)[0]),\n",
    "                                                                    Team_Keys_1 = pd.NamedAgg('Team_Keys', lambda x: set(x)),\n",
    "                                                                    Teams = pd.NamedAgg('team', lambda x: list(x)),\n",
    "                                                                    Chiral_Key = pd.NamedAgg('team', lambda x: list(x)[-1])\n",
    "                                                                    ).reset_index()"
   ]
  },
  {
   "cell_type": "code",
   "execution_count": 549,
   "metadata": {},
   "outputs": [
    {
     "name": "stderr",
     "output_type": "stream",
     "text": [
      "/tmp/ipykernel_278/1345496199.py:78: SettingWithCopyWarning: \n",
      "A value is trying to be set on a copy of a slice from a DataFrame.\n",
      "Try using .loc[row_indexer,col_indexer] = value instead\n",
      "\n",
      "See the caveats in the documentation: https://pandas.pydata.org/pandas-docs/stable/user_guide/indexing.html#returning-a-view-versus-a-copy\n",
      "  unlinked['Chiral_Key'] = unlinked.apply(lambda x: last_item(x['Teams'], x['Chiral_Key']), axis = 1)\n"
     ]
    }
   ],
   "source": [
    "# identify the unlinked and join them with the secondary method\n",
    "full_draft = chiral_leftovers(draft_data_agg, afltable_agg)"
   ]
  },
  {
   "cell_type": "markdown",
   "metadata": {},
   "source": [
    "The joining of the 2 draft datasets has been completed, where we can now begin the following:\n",
    "- Filling missing values\n",
    "- breaking down the position and history attributes\n",
    "- create new features (no. of seasons)"
   ]
  },
  {
   "cell_type": "markdown",
   "metadata": {},
   "source": [
    "# Imputation"
   ]
  },
  {
   "cell_type": "code",
   "execution_count": null,
   "metadata": {},
   "outputs": [],
   "source": [
    "# We can start by removing the HT, WT, Team_Keys, Team_Keys, Numbers from the dataset, as they are irrelevant\n",
    "full_draft.drop(columns=['HT', 'WT', 'Numbers', 'Team_Keys'], inplace=True)"
   ]
  },
  {
   "cell_type": "code",
   "execution_count": 552,
   "metadata": {},
   "outputs": [
    {
     "data": {
      "text/plain": [
       "Index(['draftYear', 'recruitedFrom', 'debutYear', 'draftType', 'draftPosition',\n",
       "       'Games', 'Clubs', 'Total_Clubs', 'Goals', 'Debut_season'],\n",
       "      dtype='object')"
      ]
     },
     "execution_count": 552,
     "metadata": {},
     "output_type": "execute_result"
    }
   ],
   "source": [
    "full_draft.columns[full_draft.isnull().any()]"
   ]
  }
 ],
 "metadata": {
  "kernelspec": {
   "display_name": "Python 3.8.10 64-bit",
   "language": "python",
   "name": "python3"
  },
  "language_info": {
   "codemirror_mode": {
    "name": "ipython",
    "version": 3
   },
   "file_extension": ".py",
   "mimetype": "text/x-python",
   "name": "python",
   "nbconvert_exporter": "python",
   "pygments_lexer": "ipython3",
   "version": "3.8.10"
  },
  "orig_nbformat": 4,
  "vscode": {
   "interpreter": {
    "hash": "916dbcbb3f70747c44a77c7bcd40155683ae19c65e1c03b4aa3499c5328201f1"
   }
  }
 },
 "nbformat": 4,
 "nbformat_minor": 2
}
